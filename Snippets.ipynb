{
 "cells": [
  {
   "cell_type": "markdown",
   "metadata": {},
   "source": [
    "# Code Snippets"
   ]
  },
  {
   "cell_type": "markdown",
   "metadata": {},
   "source": [
    "## Reading From a File\n",
    "Below is some generic code to read and output the contents of a file."
   ]
  },
  {
   "cell_type": "code",
   "execution_count": 7,
   "metadata": {},
   "outputs": [
    {
     "name": "stdout",
     "output_type": "stream",
     "text": [
      "# CSCE491-Research\n",
      "Collection of documents and progress for CSCE491 Research under Professor Dr. James Caverlee for a join thesis with Victoria Wei.\n",
      "\n"
     ]
    }
   ],
   "source": [
    "def printFile(file_name):\n",
    "    f = open(file_name, 'r')\n",
    "    print(f.read())\n",
    "\n",
    "printFile('README.md')"
   ]
  },
  {
   "cell_type": "markdown",
   "metadata": {},
   "source": [
    "## Read from data GZip\n",
    "Below is some generic code to read and output the contents of the GZip file. Be careful reading out all the contents of the GZip files as they contain a plethora of information."
   ]
  },
  {
   "cell_type": "code",
   "execution_count": 4,
   "metadata": {},
   "outputs": [
    {
     "name": "stdout",
     "output_type": "stream",
     "text": [
      "{'questionType': 'yes/no', 'asin': '0594033926', 'answerTime': 'Dec 27, 2013', 'unixTime': 1388131200, 'question': 'Is this cover the one that fits the old nook color? Which I believe is 8x5.', 'answerType': 'Y', 'answer': 'Yes this fits both the nook color and the same-shaped nook tablet'}\n"
     ]
    }
   ],
   "source": [
    "import gzip\n",
    "\n",
    "def readGzipFile(file_name):\n",
    "    g = gzip.open(file_name, 'r')\n",
    "\n",
    "    for line in g:\n",
    "        document = eval(line)\n",
    "        print (document)\n",
    "        break # Break is included here to prevent overprinting of information\n",
    "\n",
    "readGzipFile('Datasets/qa_Electronics.json.gz')"
   ]
  },
  {
   "cell_type": "code",
   "execution_count": null,
   "metadata": {},
   "outputs": [],
   "source": []
  }
 ],
 "metadata": {
  "kernelspec": {
   "display_name": "Python 3",
   "language": "python",
   "name": "python3"
  },
  "language_info": {
   "codemirror_mode": {
    "name": "ipython",
    "version": 3
   },
   "file_extension": ".py",
   "mimetype": "text/x-python",
   "name": "python",
   "nbconvert_exporter": "python",
   "pygments_lexer": "ipython3",
   "version": "3.6.3"
  }
 },
 "nbformat": 4,
 "nbformat_minor": 2
}
