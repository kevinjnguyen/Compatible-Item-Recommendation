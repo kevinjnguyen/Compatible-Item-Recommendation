{
 "cells": [
  {
   "cell_type": "markdown",
   "metadata": {},
   "source": [
    "# Reading in Electronics Meta Data"
   ]
  },
  {
   "cell_type": "markdown",
   "metadata": {},
   "source": [
    "## Reading JSON from meta_Electronics.json.gz"
   ]
  },
  {
   "cell_type": "code",
   "execution_count": 3,
   "metadata": {},
   "outputs": [
    {
     "name": "stdout",
     "output_type": "stream",
     "text": [
      "{'asin': '0132793040', 'imUrl': 'http://ecx.images-amazon.com/images/I/31JIPhp%2BGIL.jpg', 'description': 'The Kelby Training DVD Mastering Blend Modes in Adobe Photoshop CS5 with Corey Barker is a useful tool for becoming familiar with the use of blend modes in Adobe Photoshop. For those who are serious about mastering all that Photoshop has to offer, mastering blend modes is just as important as mastering layers.In this DVD tutorial, seasoned expert Corey Barker explores the function of blend modes in a variety of scenarios such as image restoration, sharpening, adjustments, special effects and much more. Since every project scenario is different, Corey encourages you to experiment with these blend modes by giving you the skills and confidence you need.', 'categories': [['Electronics', 'Computers & Accessories', 'Cables & Accessories', 'Monitor Accessories']], 'title': 'Kelby Training DVD: Mastering Blend Modes in Adobe Photoshop CS5 By Corey Barker'}\n"
     ]
    }
   ],
   "source": [
    "import gzip\n",
    "\n",
    "META_ELECTRONICS_PATH = 'Datasets/meta_Electronics.json.gz'\n",
    "\n",
    "def read_gzip_file(file_name):\n",
    "    g = gzip.open(file_name, 'r')\n",
    "\n",
    "    for line in g:\n",
    "        document = eval(line)\n",
    "        print (document)\n",
    "        break # Break is included here to prevent overprinting of information\n",
    "\n",
    "read_gzip_file(META_ELECTRONICS_PATH)"
   ]
  },
  {
   "cell_type": "markdown",
   "metadata": {},
   "source": [
    "## Read Categories\n",
    "Read categories from the electronics meta data."
   ]
  },
  {
   "cell_type": "code",
   "execution_count": 5,
   "metadata": {},
   "outputs": [
    {
     "name": "stdout",
     "output_type": "stream",
     "text": [
      "[['Electronics', 'Computers & Accessories', 'Cables & Accessories', 'Monitor Accessories']]\n"
     ]
    }
   ],
   "source": [
    "def read_categories():\n",
    "    g = gzip.open(META_ELECTRONICS_PATH, 'r')\n",
    "    \n",
    "    i = 0\n",
    "    for line in g:\n",
    "        document = eval(line)\n",
    "        print (document['categories'])\n",
    "        i++\n",
    "        if \n",
    "\n",
    "read_categories()"
   ]
  },
  {
   "cell_type": "code",
   "execution_count": null,
   "metadata": {},
   "outputs": [],
   "source": []
  }
 ],
 "metadata": {
  "kernelspec": {
   "display_name": "Python 3",
   "language": "python",
   "name": "python3"
  },
  "language_info": {
   "codemirror_mode": {
    "name": "ipython",
    "version": 3
   },
   "file_extension": ".py",
   "mimetype": "text/x-python",
   "name": "python",
   "nbconvert_exporter": "python",
   "pygments_lexer": "ipython3",
   "version": "3.6.3"
  }
 },
 "nbformat": 4,
 "nbformat_minor": 2
}
