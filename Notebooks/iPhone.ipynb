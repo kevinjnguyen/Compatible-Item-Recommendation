{
 "cells": [
  {
   "cell_type": "markdown",
   "metadata": {},
   "source": [
    "# iPhone Product Search\n",
    "\n",
    "Reading in the meta data for cell phones and doing a simple contains search for the search iphone in the title and description. The first step is to look for products that we know are 100% compatible with a specific model of the iPhone. Based on the data, we are looking into iPhone 7, iPhone 6/6S, iPhone 5/5S, and iPhone 4/4S. We note that there may be discrepencies in our results."
   ]
  },
  {
   "cell_type": "markdown",
   "metadata": {},
   "source": [
    "## Query Product\n",
    "The code below will read in the document gzip file, iterate through each document and check the title or description of the item to see if it contains the query string \"iphone\". If the item does, append the entire item to an array and return it. Overall, time complexity is O(n) where n is the number of documents in the gzip file."
   ]
  },
  {
   "cell_type": "code",
   "execution_count": 11,
   "metadata": {},
   "outputs": [],
   "source": [
    "import gzip\n",
    "\n",
    "META_CELLPHONE = 'Datasets/meta_Cell_Phones_and_Accessories.json.gz'\n",
    "\n",
    "def query_product(file_name, query, category):\n",
    "    g = gzip.open(file_name, 'r')\n",
    "    results = []\n",
    "    for line in g:\n",
    "        document = eval(line)\n",
    "        if (category in document):\n",
    "            document_category = document[category].lower()\n",
    "            if (document_category.find(query.lower()) != -1):\n",
    "                results.append(document)\n",
    "    return results"
   ]
  },
  {
   "cell_type": "markdown",
   "metadata": {},
   "source": [
    "## Filter Results\n",
    "The code below will take the results from ```query_product``` and iterate through all the items inside and only return the items with a title or description that contains the query parameter. This function can be used recursively. Overall, time complexity is O(n) where n is the number of documents returned from ```query_product```."
   ]
  },
  {
   "cell_type": "code",
   "execution_count": 12,
   "metadata": {},
   "outputs": [],
   "source": [
    "def filter_results(results, query, category):\n",
    "    new_results = []\n",
    "    for result in results:\n",
    "        document_category = result[category].lower()\n",
    "        if (document_category.find(query.lower()) != -1):\n",
    "            new_results.append(result)\n",
    "    return new_results\n",
    "\n",
    "def filter_multiple(results, queries, category):\n",
    "    new_results = []\n",
    "    for result in results:\n",
    "        print(result)\n",
    "        document_category = result[category].lower()\n",
    "        should_add = False\n",
    "        for query in queries:\n",
    "            if (document_category.find(query.lower()) != -1):\n",
    "                should_add = True\n",
    "        if (should_add):\n",
    "            new_results.append(result)\n",
    "    return new_results"
   ]
  },
  {
   "cell_type": "markdown",
   "metadata": {},
   "source": [
    "## Removing Duplicates\n",
    "Removing duplicates for the items that are in both title and description."
   ]
  },
  {
   "cell_type": "code",
   "execution_count": 13,
   "metadata": {},
   "outputs": [],
   "source": [
    "def remove_dups(iphone_title_results, iphone_description_results):\n",
    "    iphone_results = []\n",
    "    for i in range(0, len(iphone_title_results)):\n",
    "        iphone_results.append(iphone_title_results[i])\n",
    "    for i in range(0, len(iphone_description_results)):\n",
    "        if iphone_description_results[i] in iphone_title_results:  \n",
    "            continue\n",
    "        else:\n",
    "            iphone_results.append(iphone_description_results[i])\n",
    "        return iphone_results"
   ]
  },
  {
   "cell_type": "markdown",
   "metadata": {},
   "source": [
    "## Search for iPhone\n",
    "\n",
    "Utilizing the query function to search for all products that contain the word iPhone in their title and description. Then printing out the first 10 items (title and description) just to show functionality."
   ]
  },
  {
   "cell_type": "code",
   "execution_count": 4,
   "metadata": {},
   "outputs": [],
   "source": [
    "iphone_title_results = query_product(META_CELLPHONE, 'iPhone', 'title')\n",
    "iphone_description_results = query_product(META_CELLPHONE, 'iPhone', 'description')\n",
    "iphone_results = remove_dups(iphone_title_results, iphone_description_results)\n",
    "print('Total iPhone title results: {}'.format(len(iphone_title_results)))\n",
    "for i in range(0,10):\n",
    "    print('{}. {}'.format(i+1,iphone_title_results[i]['title']))\n",
    "print('Total iPhone description results: {}'.format(len(iphone_description_results)))\n",
    "for i in range(0,10):\n",
    "    print('{}. {}'.format(i+1, iphone_description_results[i]['description']))"
   ]
  },
  {
   "cell_type": "markdown",
   "metadata": {},
   "source": [
    "## Filtering for specific type of iPhone within iPhone Results\n",
    "\n",
    "Here we will create a function that will filter all of the iPhone results for a specific number. For example, this will take care of \"iPhone 6,7\" when looking for an iPhone 7."
   ]
  },
  {
   "cell_type": "code",
   "execution_count": 14,
   "metadata": {},
   "outputs": [],
   "source": [
    "def filter_specific_iphone(iphone_num, iphone_results, specific_iphone_results):\n",
    "    non_specific_iphone_results = []\n",
    "    for i in range(0, len(iphone_results)):\n",
    "        if iphone_results[i] in specific_iphone_results:\n",
    "            continue\n",
    "        else:\n",
    "            non_specific_iphone_results.append(iphone_results[i])\n",
    "    multiple_specific_iphone_title_results = filter_results(non_specific_iphone_results, iphone_num, 'title')\n",
    "    multiple_specific_iphone_description_results = filter_results(non_specific_iphone_results, iphone_num, 'description')\n",
    "    multiple_specific_iphone_results = remove_dups(multiple_specific_iphone_title_results, multiple_specific_iphone_description_results)\n",
    "    return multiple_specific_iphone_results"
   ]
  },
  {
   "cell_type": "markdown",
   "metadata": {},
   "source": [
    "## Filtering for iPhone 7\n",
    "\n",
    "Utilizing the filter function to limit the results down from iPhone to iPhone 7. Based on the results, it is apparent that iPhone 7 is not in the data set and the data comes from before the existance of the iPhone 7. To test this even further, we should also return the results from iPhone that contain 7. For example: \"iPhone 6, 7\" -> this should be filtered as one of the results. We will print out the title and description for easy-to-read print statements."
   ]
  },
  {
   "cell_type": "code",
   "execution_count": 15,
   "metadata": {},
   "outputs": [],
   "source": [
    "def filter_iphone_7(iphone_results):\n",
    "    iphone_7_title_results = filter_multiple(iphone_results, ['iPhone 7', 'iPhone7'], 'title')\n",
    "    iphone_7_description_results = filter_multiple(iphone_results, ['iPhone 7', 'iPhone7'], 'description')\n",
    "    iphone_7_results = remove_dups(iphone_7_title_results, iphone_7_description_results)\n",
    "    multiple_iphone_7_results = filter_specific_iphone('7', iphone_results, iphone_7_results)\n",
    "    for i in range(0,len(multiple_iphone_7_results)):\n",
    "        iphone_7_results.append(multiple_iphone_7_results[i])\n",
    "    return iphone_7_results"
   ]
  },
  {
   "cell_type": "code",
   "execution_count": 17,
   "metadata": {},
   "outputs": [],
   "source": [
    "iphone_7_results = filter_iphone_7(iphone_results)\n",
    "print('Total: {}'.format(len(iphone_7_results)))\n",
    "for i in range(0,len(iphone_7_results)):\n",
    "    print('{}. {}'.format(i+1,iphone_7_results[i]['title']))\n",
    "    print('{}. {}'.format(i+1, iphone_7_results[i]['description']))"
   ]
  },
  {
   "cell_type": "markdown",
   "metadata": {},
   "source": [
    "## Filtering for iPhone 6/6S\n",
    "Utilizing the filter function to limit the results down from iPhone to iPhone 6, and iPhone 6S. We should also return the results from iPhone that contain 6S and 6. For example: \"iPhone 5, 6, 6S\" -> this should be filtered as one of the results."
   ]
  },
  {
   "cell_type": "code",
   "execution_count": 18,
   "metadata": {},
   "outputs": [],
   "source": [
    "def filter_iphone_6_6S(iphone_results):\n",
    "    iphone_6_6S_title_results = filter_multiple(iphone_results, ['iPhone 6', 'iPhone 6S', 'iPhone6', 'iPhone6S'], 'title')\n",
    "    iphone_6_6S_description_results = filter_multiple(iphone_results, ['iPhone 6', 'iPhone 6S', 'iPhone6', 'iPhone6S'], 'description')\n",
    "    iphone_6_6S_results = remove_dups(iphone_6_6S_title_results, iphone_6_6S_description_results)\n",
    "    # This should take care of both 6 and 6S filtering.\n",
    "    multiple_iphone_6_6S_results = filter_specific_iphone('6', iphone_results, iphone_6_6S_results)\n",
    "    for i in range(0,len(multiple_iphone_6_6S_results)):\n",
    "        iphone_6_6S_results.append(multiple_iphone_6_6S_results[i])\n",
    "    return iphone_6_6S_results"
   ]
  },
  {
   "cell_type": "code",
   "execution_count": 19,
   "metadata": {},
   "outputs": [],
   "source": [
    "iphone_6_6S_results = filter_iphone_6_6S(iphone_results)\n",
    "print('Total: {}'.format(len(iphone_6_6S_results)))\n",
    "for i in range(0,10):\n",
    "    print('{}. {}'.format(i+1,iphone_6_6S_results[i]['title']))\n",
    "    print('{}. {}'.format(i+1,iphone_6_6S_results[i]['description']))"
   ]
  },
  {
   "cell_type": "markdown",
   "metadata": {},
   "source": [
    "## Filtering for iPhone 5/5S\n",
    "Utilizing the filter function to limit the results down from iPhone to iPhone 5, and iPhone 5S. We should also return the results from iPhone that contain 5S and 5. For example: \"iPhone 6, 5S\" -> this should be filtered as one of the results."
   ]
  },
  {
   "cell_type": "code",
   "execution_count": 20,
   "metadata": {},
   "outputs": [],
   "source": [
    "def filter_iphone_5_5S(iphone_results):\n",
    "    iphone_5_5S_title_results = filter_multiple(iphone_results, ['iPhone 5', 'iPhone 5S', 'iPhone5', 'iPhone5S'], 'title')\n",
    "    iphone_5_5S_description_results = filter_multiple(iphone_results, ['iPhone 5', 'iPhone 5S', 'iPhone5', 'iPhone5S'], 'description')\n",
    "    iphone_5_5S_results = remove_dups(iphone_5_5S_title_results, iphone_5_5S_description_results)\n",
    "    # This should take care of both 5 and 5S filtering.\n",
    "    multiple_iphone_5_5S_results = filter_specific_iphone('5', iphone_results, iphone_5_5S_results)\n",
    "    for i in range(0,len(multiple_iphone_5_5S_results)):\n",
    "        iphone_5_5S_results.append(multiple_iphone_5_5S_results[i])\n",
    "    return iphone_5_5S_results"
   ]
  },
  {
   "cell_type": "code",
   "execution_count": 21,
   "metadata": {},
   "outputs": [],
   "source": [
    "iphone_5_5S_results = filter_iphone_5_5S(iphone_results)\n",
    "print('Total: {}'.format(len(iphone_5_5S_results)))\n",
    "for i in range(0,10):\n",
    "    print('{}. {}'.format(i+1,iphone_5_5S_results[i]['title']))\n",
    "    print('{}. {}'.format(i+1,iphone_5_5S_results[i]['description']))"
   ]
  },
  {
   "cell_type": "markdown",
   "metadata": {},
   "source": [
    "## Filtering for iPhone 4/4S\n",
    "\n",
    "Utilizing the filter function to limit the results down from iPhone to iPhone 4 and iPhone 4S. We should also return the results from iPhone that contain 4S and 4. For example: \"iPhone 6, 5, 4\" -> this should be filtered as one of the results."
   ]
  },
  {
   "cell_type": "code",
   "execution_count": 22,
   "metadata": {},
   "outputs": [],
   "source": [
    "def filter_iphone_4_4S(iphone_results):\n",
    "    iphone_4_4S_title_results = filter_multiple(iphone_results, ['iPhone 4', 'iPhone 4S', 'iPhone4', 'iPhone4S'], 'title')\n",
    "    iphone_4_4S_description_results = filter_multiple(iphone_results, ['iPhone 4', 'iPhone 4S', 'iPhone4', 'iPhone4S'], 'description')\n",
    "    iphone_4_4S_results = remove_dups(iphone_4_4S_title_results, iphone_4_4S_description_results)\n",
    "    # This should take care of both 4 and 4S filtering.\n",
    "    multiple_iphone_4_4S_results = filter_specific_iphone('4', iphone_results, iphone_4_4S_results)\n",
    "    for i in range(0,len(multiple_iphone_4_4S_results)):\n",
    "        iphone_4_4S_results.append(multiple_iphone_4_4S_results[i])\n",
    "    return iphone_4_4S_results"
   ]
  },
  {
   "cell_type": "code",
   "execution_count": 23,
   "metadata": {
    "scrolled": true
   },
   "outputs": [],
   "source": [
    "iphone_4_4S_results = filter_iphone_4_4S(iphone_results)\n",
    "print('Total: {}'.format(len(iphone_4_4S_results)))\n",
    "for i in range(0,10):\n",
    "    print('{}. {}'.format(i+1,iphone_4_4S_results[i]['title']))\n",
    "    print('{}. {}'.format(i+1,iphone_4_4S_results[i]['description']))"
   ]
  },
  {
   "cell_type": "code",
   "execution_count": null,
   "metadata": {},
   "outputs": [],
   "source": []
  }
 ],
 "metadata": {
  "kernelspec": {
   "display_name": "Python 3",
   "language": "python",
   "name": "python3"
  },
  "language_info": {
   "codemirror_mode": {
    "name": "ipython",
    "version": 2
   },
   "file_extension": ".py",
   "mimetype": "text/x-python",
   "name": "python",
   "nbconvert_exporter": "python",
   "pygments_lexer": "ipython2",
   "version": "2.7.14"
  }
 },
 "nbformat": 4,
 "nbformat_minor": 1
}
