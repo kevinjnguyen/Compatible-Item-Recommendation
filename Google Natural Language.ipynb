{
 "cells": [
  {
   "cell_type": "markdown",
   "metadata": {},
   "source": [
    "# Google Natural Language API Client\n",
    "## Setup\n",
    "[https://cloud.google.com/natural-language/docs/reference/libraries#client-libraries-install-python](https://cloud.google.com/natural-language/docs/reference/libraries#client-libraries-install-python)\n",
    "\n",
    "Run:\n",
    "```\n",
    "export GOOGLE_APPLICATION_CREDENTIALS=\"[PATH]\"\n",
    "```"
   ]
  },
  {
   "cell_type": "markdown",
   "metadata": {},
   "source": [
    "## Sample Code\n",
    "Run the below code to make sure you have everything set up. Something should show up similar to:\n",
    "```\n",
    "Text: Hello, world!\n",
    "Sentiment: 0.300000011921, 0.300000011921\n",
    "```"
   ]
  },
  {
   "cell_type": "code",
   "execution_count": 1,
   "metadata": {},
   "outputs": [
    {
     "name": "stdout",
     "output_type": "stream",
     "text": [
      "Text: Hello, world!\n",
      "Sentiment: 0.30000001192092896, 0.30000001192092896\n"
     ]
    }
   ],
   "source": [
    "# Imports the Google Cloud client library\n",
    "from google.cloud import language\n",
    "from google.cloud.language import enums\n",
    "from google.cloud.language import types\n",
    "\n",
    "# Instantiates a client\n",
    "client = language.LanguageServiceClient()\n",
    "\n",
    "# The text to analyze\n",
    "text = u'Hello, world!'\n",
    "document = types.Document(\n",
    "    content=text,\n",
    "    type=enums.Document.Type.PLAIN_TEXT)\n",
    "\n",
    "# Detects the sentiment of the text\n",
    "sentiment = client.analyze_sentiment(document=document).document_sentiment\n",
    "\n",
    "print('Text: {}'.format(text))\n",
    "print('Sentiment: {}, {}'.format(sentiment.score, sentiment.magnitude))"
   ]
  },
  {
   "cell_type": "markdown",
   "metadata": {},
   "source": [
    "# REST API Call\n",
    "\n",
    "Export API Key to environmental variable:\n",
    "```\n",
    "export GOOGLE_KEY=MY_SECRET_KEY\n",
    "```"
   ]
  },
  {
   "cell_type": "code",
   "execution_count": 3,
   "metadata": {
    "collapsed": true
   },
   "outputs": [],
   "source": [
    "import gzip\n",
    "\n",
    "META_CELLPHONE = 'Datasets/meta_Cell_Phones_and_Accessories.json.gz'\n",
    "\n",
    "def get_documents(file_name):\n",
    "    g = gzip.open(file_name, 'r')\n",
    "    results = []\n",
    "    for line in g:\n",
    "        document = eval(line)\n",
    "        results.append(document)\n",
    "    return results"
   ]
  },
  {
   "cell_type": "code",
   "execution_count": 4,
   "metadata": {
    "collapsed": true
   },
   "outputs": [],
   "source": [
    "all_documents = get_documents(META_CELLPHONE)"
   ]
  },
  {
   "cell_type": "code",
   "execution_count": 9,
   "metadata": {
    "collapsed": true
   },
   "outputs": [],
   "source": [
    "import os\n",
    "api_key = os.environ['GOOGLE_KEY']"
   ]
  },
  {
   "cell_type": "code",
   "execution_count": 52,
   "metadata": {
    "collapsed": true
   },
   "outputs": [],
   "source": [
    "import requests\n",
    "import json\n",
    "\n",
    "LANGUAGE_ENDPOINT = 'https://language.googleapis.com/v1/documents:analyzeEntities?key={}'.format(api_key)\n",
    "\n",
    "def merge_title_description(document):\n",
    "    title = ''\n",
    "    description = ''\n",
    "    if 'title' in document:\n",
    "        title = document['title']\n",
    "    if 'description' in document:\n",
    "        description = document['description']\n",
    "    return title + description\n",
    "\n",
    "def perform_api_request(document):\n",
    "    payload = {\n",
    "        \"document\": {\n",
    "            \"type\": \"PLAIN_TEXT\",\n",
    "            \"language\": \"EN\",\n",
    "            \"content\": merge_title_description(document)\n",
    "        },\n",
    "        \"encodingType\": \"UTF8\"\n",
    "    }\n",
    "\n",
    "    r = requests.post(endpoint, data=json.dumps(payload))\n",
    "    return r.text"
   ]
  },
  {
   "cell_type": "code",
   "execution_count": 53,
   "metadata": {
    "collapsed": true
   },
   "outputs": [],
   "source": [
    "def save_api_request(document_name, r):\n",
    "    file_name = 'Processed/{}.json'.format(document_name)\n",
    "    with open(file_name, 'w') as outfile:\n",
    "        json_data = json.dump(r, outfile)"
   ]
  },
  {
   "cell_type": "code",
   "execution_count": 54,
   "metadata": {},
   "outputs": [],
   "source": [
    "import os\n",
    "\n",
    "RUN_LIMIT = 100\n",
    "def process_all_documents(all_documents):\n",
    "    count = 0\n",
    "    for document in all_documents:\n",
    "        asin = document['asin']\n",
    "        already_processed = os.path.exists('Processed/{}.json'.format(asin))\n",
    "        if not already_processed:\n",
    "            r = perform_api_request(document)\n",
    "            save_api_request(asin, r)\n",
    "            count = count + 1\n",
    "            if (count is RUN_LIMIT):\n",
    "                break\n",
    "\n",
    "process_all_documents(all_documents)"
   ]
  },
  {
   "cell_type": "code",
   "execution_count": 50,
   "metadata": {},
   "outputs": [
    {
     "data": {
      "text/plain": [
       "{u'entities': [{u'mentions': [{u'text': {u'beginOffset': 100,\n",
       "      u'content': u'window mount'},\n",
       "     u'type': u'COMMON'},\n",
       "    {u'text': {u'beginOffset': 379, u'content': u'window mount'},\n",
       "     u'type': u'COMMON'}],\n",
       "   u'metadata': {},\n",
       "   u'name': u'window mount',\n",
       "   u'salience': 0.29900506,\n",
       "   u'type': u'OTHER'},\n",
       "  {u'mentions': [{u'text': {u'beginOffset': 128, u'content': u'Direct Solar'},\n",
       "     u'type': u'COMMON'},\n",
       "    {u'text': {u'beginOffset': 407, u'content': u'Direct Solar'},\n",
       "     u'type': u'COMMON'}],\n",
       "   u'metadata': {},\n",
       "   u'name': u'Direct Solar',\n",
       "   u'salience': 0.22894204,\n",
       "   u'type': u'OTHER'},\n",
       "  {u'mentions': [{u'text': {u'beginOffset': 39, u'content': u'Tablet Charger'},\n",
       "     u'type': u'PROPER'},\n",
       "    {u'text': {u'beginOffset': 318, u'content': u'Tablet Charger'},\n",
       "     u'type': u'PROPER'}],\n",
       "   u'metadata': {u'mid': u'/m/0bh9flk',\n",
       "    u'wikipedia_url': u'https://en.wikipedia.org/wiki/Tablet_computer'},\n",
       "   u'name': u'Tablet Charger',\n",
       "   u'salience': 0.13396543,\n",
       "   u'type': u'CONSUMER_GOOD'},\n",
       "  {u'mentions': [{u'text': {u'beginOffset': 65, u'content': u'Eco-Slim'},\n",
       "     u'type': u'PROPER'},\n",
       "    {u'text': {u'beginOffset': 344, u'content': u'Eco-Slim'},\n",
       "     u'type': u'PROPER'}],\n",
       "   u'metadata': {},\n",
       "   u'name': u'Eco-Slim',\n",
       "   u'salience': 0.06491308,\n",
       "   u'type': u'OTHER'},\n",
       "  {u'mentions': [{u'text': {u'beginOffset': 14,\n",
       "      u'content': u'Amazon Kindle Fire HDX'},\n",
       "     u'type': u'PROPER'},\n",
       "    {u'text': {u'beginOffset': 293, u'content': u'Amazon Kindle Fire HDX'},\n",
       "     u'type': u'PROPER'}],\n",
       "   u'metadata': {u'mid': u'/m/0xpj0z7',\n",
       "    u'wikipedia_url': u'https://en.wikipedia.org/wiki/Fire_HDX'},\n",
       "   u'name': u'Amazon Kindle Fire HDX',\n",
       "   u'salience': 0.06491308,\n",
       "   u'type': u'CONSUMER_GOOD'},\n",
       "  {u'mentions': [{u'text': {u'beginOffset': 152, u'content': u'sunshine'},\n",
       "     u'type': u'COMMON'}],\n",
       "   u'metadata': {},\n",
       "   u'name': u'sunshine',\n",
       "   u'salience': 0.02716138,\n",
       "   u'type': u'OTHER'},\n",
       "  {u'mentions': [{u'text': {u'beginOffset': 178, u'content': u'battery'},\n",
       "     u'type': u'COMMON'}],\n",
       "   u'metadata': {},\n",
       "   u'name': u'battery',\n",
       "   u'salience': 0.02716138,\n",
       "   u'type': u'OTHER'},\n",
       "  {u'mentions': [{u'text': {u'beginOffset': 217, u'content': u'wall plug'},\n",
       "     u'type': u'COMMON'}],\n",
       "   u'metadata': {},\n",
       "   u'name': u'wall plug',\n",
       "   u'salience': 0.018390778,\n",
       "   u'type': u'OTHER'},\n",
       "  {u'mentions': [{u'text': {u'beginOffset': 253, u'content': u'money'},\n",
       "     u'type': u'COMMON'}],\n",
       "   u'metadata': {},\n",
       "   u'name': u'money',\n",
       "   u'salience': 0.018390778,\n",
       "   u'type': u'OTHER'},\n",
       "  {u'mentions': [{u'text': {u'beginOffset': 431, u'content': u'sunshine'},\n",
       "     u'type': u'COMMON'}],\n",
       "   u'metadata': {},\n",
       "   u'name': u'sunshine',\n",
       "   u'salience': 0.016691355,\n",
       "   u'type': u'OTHER'},\n",
       "  {u'mentions': [{u'text': {u'beginOffset': 457, u'content': u'battery'},\n",
       "     u'type': u'COMMON'}],\n",
       "   u'metadata': {},\n",
       "   u'name': u'battery',\n",
       "   u'salience': 0.016691355,\n",
       "   u'type': u'OTHER'},\n",
       "  {u'mentions': [{u'text': {u'beginOffset': 275, u'content': u'RED'},\n",
       "     u'type': u'COMMON'}],\n",
       "   u'metadata': {},\n",
       "   u'name': u'RED',\n",
       "   u'salience': 0.016020292,\n",
       "   u'type': u'OTHER'},\n",
       "  {u'mentions': [{u'text': {u'beginOffset': 668, u'content': u'charger'},\n",
       "     u'type': u'COMMON'}],\n",
       "   u'metadata': {},\n",
       "   u'name': u'charger',\n",
       "   u'salience': 0.014724374,\n",
       "   u'type': u'CONSUMER_GOOD'},\n",
       "  {u'mentions': [{u'text': {u'beginOffset': 722, u'content': u'device'},\n",
       "     u'type': u'COMMON'}],\n",
       "   u'metadata': {},\n",
       "   u'name': u'device',\n",
       "   u'salience': 0.011037792,\n",
       "   u'type': u'CONSUMER_GOOD'},\n",
       "  {u'mentions': [{u'text': {u'beginOffset': 625, u'content': u'item'},\n",
       "     u'type': u'COMMON'}],\n",
       "   u'metadata': {},\n",
       "   u'name': u'item',\n",
       "   u'salience': 0.0109299775,\n",
       "   u'type': u'OTHER'},\n",
       "  {u'mentions': [{u'text': {u'beginOffset': 707, u'content': u'charge'},\n",
       "     u'type': u'COMMON'}],\n",
       "   u'metadata': {},\n",
       "   u'name': u'charge',\n",
       "   u'salience': 0.0077297366,\n",
       "   u'type': u'OTHER'},\n",
       "  {u'mentions': [{u'text': {u'beginOffset': 758, u'content': u'sun'},\n",
       "     u'type': u'COMMON'}],\n",
       "   u'metadata': {},\n",
       "   u'name': u'sun',\n",
       "   u'salience': 0.0075534456,\n",
       "   u'type': u'OTHER'},\n",
       "  {u'mentions': [{u'text': {u'beginOffset': 496, u'content': u'wall plug'},\n",
       "     u'type': u'COMMON'}],\n",
       "   u'metadata': {},\n",
       "   u'name': u'wall plug',\n",
       "   u'salience': 0.005488191,\n",
       "   u'type': u'OTHER'},\n",
       "  {u'mentions': [{u'text': {u'beginOffset': 532, u'content': u'money'},\n",
       "     u'type': u'COMMON'}],\n",
       "   u'metadata': {},\n",
       "   u'name': u'money',\n",
       "   u'salience': 0.005488191,\n",
       "   u'type': u'OTHER'},\n",
       "  {u'mentions': [{u'text': {u'beginOffset': 575, u'content': u'manufacturer'},\n",
       "     u'type': u'COMMON'}],\n",
       "   u'metadata': {},\n",
       "   u'name': u'manufacturer',\n",
       "   u'salience': 0.004802301,\n",
       "   u'type': u'ORGANIZATION'}],\n",
       " u'language': u'en'}"
      ]
     },
     "execution_count": 50,
     "metadata": {},
     "output_type": "execute_result"
    }
   ],
   "source": [
    "def serialize_processed_document(asin):\n",
    "    already_processed = os.path.exists('Processed/{}.json'.format(asin))\n",
    "    if already_processed:\n",
    "        data = json.load(open('Processed/{}.json'.format(asin), 'r'))\n",
    "        return json.loads(data)\n",
    "    else:\n",
    "        return None\n",
    "\n",
    "serialize_processed_document('1059777851')"
   ]
  }
 ],
 "metadata": {
  "kernelspec": {
   "display_name": "Python 3",
   "language": "python",
   "name": "python3"
  },
  "language_info": {
   "codemirror_mode": {
    "name": "ipython",
    "version": 2
   },
   "file_extension": ".py",
   "mimetype": "text/x-python",
   "name": "python",
   "nbconvert_exporter": "python",
   "pygments_lexer": "ipython2",
   "version": "2.7.14"
  }
 },
 "nbformat": 4,
 "nbformat_minor": 2
}
