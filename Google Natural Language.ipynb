{
 "cells": [
  {
   "cell_type": "markdown",
   "metadata": {},
   "source": [
    "# Google Natural Language API Client\n",
    "## Setup\n",
    "[https://cloud.google.com/natural-language/docs/reference/libraries#client-libraries-install-python](https://cloud.google.com/natural-language/docs/reference/libraries#client-libraries-install-python)\n",
    "\n",
    "Run:\n",
    "```\n",
    "export GOOGLE_APPLICATION_CREDENTIALS=\"[PATH]\"\n",
    "```"
   ]
  },
  {
   "cell_type": "markdown",
   "metadata": {},
   "source": [
    "## Sample Code\n",
    "Run the below code to make sure you have everything set up. Something should show up similar to:\n",
    "```\n",
    "Text: Hello, world!\n",
    "Sentiment: 0.300000011921, 0.300000011921\n",
    "```"
   ]
  },
  {
   "cell_type": "code",
   "execution_count": 1,
   "metadata": {},
   "outputs": [
    {
     "name": "stdout",
     "output_type": "stream",
     "text": [
      "Text: Hello, world!\n",
      "Sentiment: 0.300000011921, 0.300000011921\n"
     ]
    }
   ],
   "source": [
    "# Imports the Google Cloud client library\n",
    "from google.cloud import language\n",
    "from google.cloud.language import enums\n",
    "from google.cloud.language import types\n",
    "\n",
    "# Instantiates a client\n",
    "client = language.LanguageServiceClient()\n",
    "\n",
    "# The text to analyze\n",
    "text = u'Hello, world!'\n",
    "document = types.Document(\n",
    "    content=text,\n",
    "    type=enums.Document.Type.PLAIN_TEXT)\n",
    "\n",
    "# Detects the sentiment of the text\n",
    "sentiment = client.analyze_sentiment(document=document).document_sentiment\n",
    "\n",
    "print('Text: {}'.format(text))\n",
    "print('Sentiment: {}, {}'.format(sentiment.score, sentiment.magnitude))"
   ]
  },
  {
   "cell_type": "code",
   "execution_count": null,
   "metadata": {
    "collapsed": true
   },
   "outputs": [],
   "source": [
    "import gzip\n",
    "\n",
    "META_CELLPHONE = 'Datasets/meta_Cell_Phones_and_Accessories.json.gz'\n",
    "\n",
    "def get_documents(file_name):\n",
    "    g = gzip.open(file_name, 'r')\n",
    "    results = []\n",
    "    for line in g:\n",
    "        document = eval(line)\n",
    "        results.append(document)\n",
    "    return results"
   ]
  },
  {
   "cell_type": "code",
   "execution_count": null,
   "metadata": {
    "collapsed": true
   },
   "outputs": [],
   "source": [
    "all_documents = get_documents(META_CELLPHONE)"
   ]
  },
  {
   "cell_type": "code",
   "execution_count": null,
   "metadata": {
    "collapsed": true
   },
   "outputs": [],
   "source": [
    "def add_merged_fields(all_documents):\n",
    "    for document in all_documents:\n",
    "        description = ''\n",
    "        title = ''\n",
    "        if 'description' in document:\n",
    "            description = document['description']\n",
    "        if 'title' in document:\n",
    "            title = document['title']\n",
    "        document['title_description'] = '{} {}'.format(title, description)\n",
    "        \n",
    "#         document['title_description'] = '{} {}'.format(document['title'], document['description'])"
   ]
  },
  {
   "cell_type": "code",
   "execution_count": null,
   "metadata": {
    "collapsed": true
   },
   "outputs": [],
   "source": [
    "add_merged_fields(all_documents)"
   ]
  },
  {
   "cell_type": "code",
   "execution_count": null,
   "metadata": {
    "collapsed": true
   },
   "outputs": [],
   "source": [
    "document = types.Document(content=text, type=enums.Document.Type.PLAIN_TEXT)\n",
    "\n",
    "entities = client.analyze_entities(document=document)"
   ]
  },
  {
   "cell_type": "markdown",
   "metadata": {},
   "source": [
    "# REST API Call\n",
    "\n",
    "Export API Key to environmental variable:\n",
    "```\n",
    "export GOOGLE_KEY=MY_SECRET_KEY\n",
    "```"
   ]
  },
  {
   "cell_type": "code",
   "execution_count": null,
   "metadata": {},
   "outputs": [],
   "source": [
    "import os\n",
    "api_key = os.environ['GOOGLE_KEY']"
   ]
  },
  {
   "cell_type": "code",
   "execution_count": null,
   "metadata": {},
   "outputs": [],
   "source": [
    "endpoint = 'https://language.googleapis.com/v1/documents:analyzeEntities?key={}'.format(api_key)\n",
    "\n",
    "import requests\n",
    "import json\n",
    "payload = {\n",
    "    \"document\": {\n",
    "        \"type\": \"PLAIN_TEXT\",\n",
    "        \"language\": \"EN\",\n",
    "        \"content\": all_documents[0]['title_description']\n",
    "    },\n",
    "    \"encodingType\": \"UTF8\"\n",
    "}\n",
    "\n",
    "r = requests.post(endpoint, data=json.dumps(payload))\n"
   ]
  },
  {
   "cell_type": "code",
   "execution_count": null,
   "metadata": {
    "collapsed": true
   },
   "outputs": [],
   "source": [
    "with open('data.txt', 'w') as outfile:\n",
    "    json.dump(r.text, outfile)"
   ]
  },
  {
   "cell_type": "code",
   "execution_count": null,
   "metadata": {},
   "outputs": [],
   "source": [
    "from pprint import pprint\n",
    "\n",
    "data = json.load(open('data.txt','r'))\n",
    "json.loads(data)['entities']\n",
    "\n",
    "# pprint(data)"
   ]
  },
  {
   "cell_type": "code",
   "execution_count": null,
   "metadata": {},
   "outputs": [],
   "source": [
    "str_test = entities.SerializeToString\n",
    "temp = types.AnalyzeEntitiesResponse()\n",
    "temp.ParseFromString(str_test)\n",
    "# types.AnalyzeEntitiesResponse.MergeFromString(str_test)\n",
    "# entities.FromString(str_test)\n",
    "# test = new AnalyzeEntitiesResponse"
   ]
  },
  {
   "cell_type": "code",
   "execution_count": null,
   "metadata": {
    "collapsed": true
   },
   "outputs": [],
   "source": [
    "type(entities)"
   ]
  },
  {
   "cell_type": "code",
   "execution_count": null,
   "metadata": {
    "collapsed": true
   },
   "outputs": [],
   "source": []
  }
 ],
 "metadata": {
  "kernelspec": {
   "display_name": "Python 3",
   "language": "python",
   "name": "python3"
  },
  "language_info": {
   "codemirror_mode": {
    "name": "ipython",
    "version": 2
   },
   "file_extension": ".py",
   "mimetype": "text/x-python",
   "name": "python",
   "nbconvert_exporter": "python",
   "pygments_lexer": "ipython2",
   "version": "2.7.14"
  }
 },
 "nbformat": 4,
 "nbformat_minor": 2
}
