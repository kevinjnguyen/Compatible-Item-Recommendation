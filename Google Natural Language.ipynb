{
 "cells": [
  {
   "cell_type": "markdown",
   "metadata": {},
   "source": [
    "# Google Natural Language API Client\n",
    "## Setup\n",
    "[https://cloud.google.com/natural-language/docs/reference/libraries#client-libraries-install-python](https://cloud.google.com/natural-language/docs/reference/libraries#client-libraries-install-python)\n",
    "\n",
    "Run:\n",
    "```\n",
    "export GOOGLE_APPLICATION_CREDENTIALS=\"[PATH]\"\n",
    "```"
   ]
  },
  {
   "cell_type": "markdown",
   "metadata": {},
   "source": [
    "## Sample Code\n",
    "Run the below code to make sure you have everything set up. Something should show up similar to:\n",
    "```\n",
    "Text: Hello, world!\n",
    "Sentiment: 0.300000011921, 0.300000011921\n",
    "```"
   ]
  },
  {
   "cell_type": "code",
   "execution_count": 12,
   "metadata": {},
   "outputs": [
    {
     "name": "stdout",
     "output_type": "stream",
     "text": [
      "Text: Hello, world!\n",
      "Sentiment: 0.30000001192092896, 0.30000001192092896\n"
     ]
    }
   ],
   "source": [
    "# Imports the Google Cloud client library\n",
    "from google.cloud import language\n",
    "from google.cloud.language import enums\n",
    "from google.cloud.language import types\n",
    "\n",
    "# Instantiates a client\n",
    "client = language.LanguageServiceClient()\n",
    "\n",
    "# The text to analyze\n",
    "text = u'Hello, world!'\n",
    "document = types.Document(\n",
    "    content=text,\n",
    "    type=enums.Document.Type.PLAIN_TEXT)\n",
    "\n",
    "# Detects the sentiment of the text\n",
    "sentiment = client.analyze_sentiment(document=document).document_sentiment\n",
    "\n",
    "print('Text: {}'.format(text))\n",
    "print('Sentiment: {}, {}'.format(sentiment.score, sentiment.magnitude))"
   ]
  },
  {
   "cell_type": "markdown",
   "metadata": {},
   "source": [
    "# REST API Call\n",
    "\n",
    "Export API Key to environmental variable:\n",
    "```\n",
    "export GOOGLE_KEY=MY_SECRET_KEY\n",
    "```"
   ]
  },
  {
   "cell_type": "code",
   "execution_count": 13,
   "metadata": {},
   "outputs": [],
   "source": [
    "import gzip\n",
    "\n",
    "META_CELLPHONE = 'Datasets/meta_Cell_Phones_and_Accessories.json.gz'\n",
    "\n",
    "def get_documents(file_name):\n",
    "    g = gzip.open(file_name, 'r')\n",
    "    results = []\n",
    "    for line in g:\n",
    "        document = eval(line)\n",
    "        results.append(document)\n",
    "    return results"
   ]
  },
  {
   "cell_type": "code",
   "execution_count": 14,
   "metadata": {},
   "outputs": [],
   "source": [
    "all_documents = get_documents(META_CELLPHONE)"
   ]
  },
  {
   "cell_type": "code",
   "execution_count": 15,
   "metadata": {},
   "outputs": [],
   "source": [
    "import os\n",
    "api_key = os.environ['GOOGLE_KEY']"
   ]
  },
  {
   "cell_type": "code",
   "execution_count": 16,
   "metadata": {},
   "outputs": [],
   "source": [
    "import requests\n",
    "import json\n",
    "\n",
    "LANGUAGE_ENDPOINT = 'https://language.googleapis.com/v1/documents:analyzeEntities?key={}'.format(api_key)\n",
    "\n",
    "def merge_title_description(document):\n",
    "    title = ''\n",
    "    description = ''\n",
    "    if 'title' in document:\n",
    "        title = document['title']\n",
    "    if 'description' in document:\n",
    "        description = document['description']\n",
    "    return title + description\n",
    "\n",
    "def perform_api_request(document):\n",
    "    payload = {\n",
    "        \"document\": {\n",
    "            \"type\": \"PLAIN_TEXT\",\n",
    "            \"language\": \"EN\",\n",
    "            \"content\": merge_title_description(document)\n",
    "        },\n",
    "        \"encodingType\": \"UTF8\"\n",
    "    }\n",
    "\n",
    "    r = requests.post(LANGUAGE_ENDPOINT, data=json.dumps(payload))\n",
    "    return r.text"
   ]
  },
  {
   "cell_type": "code",
   "execution_count": 17,
   "metadata": {},
   "outputs": [],
   "source": [
    "def save_api_request(document_name, r):\n",
    "    file_name = 'Processed/{}.json'.format(document_name)\n",
    "    with open(file_name, 'w') as outfile:\n",
    "        json_data = json.dump(r, outfile)"
   ]
  },
  {
   "cell_type": "code",
   "execution_count": 18,
   "metadata": {},
   "outputs": [],
   "source": [
    "import os\n",
    "\n",
    "RUN_LIMIT = 5000\n",
    "def process_all_documents(all_documents):\n",
    "    count = 0\n",
    "    for document in all_documents:\n",
    "        asin = document['asin']\n",
    "        already_processed = os.path.exists('Processed/{}.json'.format(asin))\n",
    "        if not already_processed:\n",
    "            r = perform_api_request(document)\n",
    "            save_api_request(asin, r)\n",
    "            count = count + 1\n",
    "            if (count == RUN_LIMIT):\n",
    "                break\n",
    "\n",
    "process_all_documents(all_documents)"
   ]
  },
  {
   "cell_type": "code",
   "execution_count": 19,
   "metadata": {},
   "outputs": [
    {
     "data": {
      "text/plain": [
       "{'entities': [{'mentions': [{'text': {'beginOffset': 100,\n",
       "      'content': 'window mount'},\n",
       "     'type': 'COMMON'},\n",
       "    {'text': {'beginOffset': 379, 'content': 'window mount'},\n",
       "     'type': 'COMMON'}],\n",
       "   'metadata': {},\n",
       "   'name': 'window mount',\n",
       "   'salience': 0.29900506,\n",
       "   'type': 'OTHER'},\n",
       "  {'mentions': [{'text': {'beginOffset': 128, 'content': 'Direct Solar'},\n",
       "     'type': 'COMMON'},\n",
       "    {'text': {'beginOffset': 407, 'content': 'Direct Solar'},\n",
       "     'type': 'COMMON'}],\n",
       "   'metadata': {},\n",
       "   'name': 'Direct Solar',\n",
       "   'salience': 0.22894204,\n",
       "   'type': 'OTHER'},\n",
       "  {'mentions': [{'text': {'beginOffset': 39, 'content': 'Tablet Charger'},\n",
       "     'type': 'PROPER'},\n",
       "    {'text': {'beginOffset': 318, 'content': 'Tablet Charger'},\n",
       "     'type': 'PROPER'}],\n",
       "   'metadata': {'mid': '/m/0bh9flk',\n",
       "    'wikipedia_url': 'https://en.wikipedia.org/wiki/Tablet_computer'},\n",
       "   'name': 'Tablet Charger',\n",
       "   'salience': 0.13396543,\n",
       "   'type': 'CONSUMER_GOOD'},\n",
       "  {'mentions': [{'text': {'beginOffset': 65, 'content': 'Eco-Slim'},\n",
       "     'type': 'PROPER'},\n",
       "    {'text': {'beginOffset': 344, 'content': 'Eco-Slim'}, 'type': 'PROPER'}],\n",
       "   'metadata': {},\n",
       "   'name': 'Eco-Slim',\n",
       "   'salience': 0.06491308,\n",
       "   'type': 'OTHER'},\n",
       "  {'mentions': [{'text': {'beginOffset': 14,\n",
       "      'content': 'Amazon Kindle Fire HDX'},\n",
       "     'type': 'PROPER'},\n",
       "    {'text': {'beginOffset': 293, 'content': 'Amazon Kindle Fire HDX'},\n",
       "     'type': 'PROPER'}],\n",
       "   'metadata': {'mid': '/m/0xpj0z7',\n",
       "    'wikipedia_url': 'https://en.wikipedia.org/wiki/Fire_HDX'},\n",
       "   'name': 'Amazon Kindle Fire HDX',\n",
       "   'salience': 0.06491308,\n",
       "   'type': 'CONSUMER_GOOD'},\n",
       "  {'mentions': [{'text': {'beginOffset': 152, 'content': 'sunshine'},\n",
       "     'type': 'COMMON'}],\n",
       "   'metadata': {},\n",
       "   'name': 'sunshine',\n",
       "   'salience': 0.02716138,\n",
       "   'type': 'OTHER'},\n",
       "  {'mentions': [{'text': {'beginOffset': 178, 'content': 'battery'},\n",
       "     'type': 'COMMON'}],\n",
       "   'metadata': {},\n",
       "   'name': 'battery',\n",
       "   'salience': 0.02716138,\n",
       "   'type': 'OTHER'},\n",
       "  {'mentions': [{'text': {'beginOffset': 217, 'content': 'wall plug'},\n",
       "     'type': 'COMMON'}],\n",
       "   'metadata': {},\n",
       "   'name': 'wall plug',\n",
       "   'salience': 0.018390778,\n",
       "   'type': 'OTHER'},\n",
       "  {'mentions': [{'text': {'beginOffset': 253, 'content': 'money'},\n",
       "     'type': 'COMMON'}],\n",
       "   'metadata': {},\n",
       "   'name': 'money',\n",
       "   'salience': 0.018390778,\n",
       "   'type': 'OTHER'},\n",
       "  {'mentions': [{'text': {'beginOffset': 431, 'content': 'sunshine'},\n",
       "     'type': 'COMMON'}],\n",
       "   'metadata': {},\n",
       "   'name': 'sunshine',\n",
       "   'salience': 0.016691355,\n",
       "   'type': 'OTHER'},\n",
       "  {'mentions': [{'text': {'beginOffset': 457, 'content': 'battery'},\n",
       "     'type': 'COMMON'}],\n",
       "   'metadata': {},\n",
       "   'name': 'battery',\n",
       "   'salience': 0.016691355,\n",
       "   'type': 'OTHER'},\n",
       "  {'mentions': [{'text': {'beginOffset': 275, 'content': 'RED'},\n",
       "     'type': 'COMMON'}],\n",
       "   'metadata': {},\n",
       "   'name': 'RED',\n",
       "   'salience': 0.016020292,\n",
       "   'type': 'OTHER'},\n",
       "  {'mentions': [{'text': {'beginOffset': 668, 'content': 'charger'},\n",
       "     'type': 'COMMON'}],\n",
       "   'metadata': {},\n",
       "   'name': 'charger',\n",
       "   'salience': 0.014724374,\n",
       "   'type': 'CONSUMER_GOOD'},\n",
       "  {'mentions': [{'text': {'beginOffset': 722, 'content': 'device'},\n",
       "     'type': 'COMMON'}],\n",
       "   'metadata': {},\n",
       "   'name': 'device',\n",
       "   'salience': 0.011037792,\n",
       "   'type': 'CONSUMER_GOOD'},\n",
       "  {'mentions': [{'text': {'beginOffset': 625, 'content': 'item'},\n",
       "     'type': 'COMMON'}],\n",
       "   'metadata': {},\n",
       "   'name': 'item',\n",
       "   'salience': 0.0109299775,\n",
       "   'type': 'OTHER'},\n",
       "  {'mentions': [{'text': {'beginOffset': 707, 'content': 'charge'},\n",
       "     'type': 'COMMON'}],\n",
       "   'metadata': {},\n",
       "   'name': 'charge',\n",
       "   'salience': 0.0077297366,\n",
       "   'type': 'OTHER'},\n",
       "  {'mentions': [{'text': {'beginOffset': 758, 'content': 'sun'},\n",
       "     'type': 'COMMON'}],\n",
       "   'metadata': {},\n",
       "   'name': 'sun',\n",
       "   'salience': 0.0075534456,\n",
       "   'type': 'OTHER'},\n",
       "  {'mentions': [{'text': {'beginOffset': 496, 'content': 'wall plug'},\n",
       "     'type': 'COMMON'}],\n",
       "   'metadata': {},\n",
       "   'name': 'wall plug',\n",
       "   'salience': 0.005488191,\n",
       "   'type': 'OTHER'},\n",
       "  {'mentions': [{'text': {'beginOffset': 532, 'content': 'money'},\n",
       "     'type': 'COMMON'}],\n",
       "   'metadata': {},\n",
       "   'name': 'money',\n",
       "   'salience': 0.005488191,\n",
       "   'type': 'OTHER'},\n",
       "  {'mentions': [{'text': {'beginOffset': 575, 'content': 'manufacturer'},\n",
       "     'type': 'COMMON'}],\n",
       "   'metadata': {},\n",
       "   'name': 'manufacturer',\n",
       "   'salience': 0.004802301,\n",
       "   'type': 'ORGANIZATION'}],\n",
       " 'language': 'en'}"
      ]
     },
     "execution_count": 19,
     "metadata": {},
     "output_type": "execute_result"
    }
   ],
   "source": [
    "def serialize_processed_document(asin):\n",
    "    already_processed = os.path.exists('Processed/{}.json'.format(asin))\n",
    "    if already_processed:\n",
    "        data = json.load(open('Processed/{}.json'.format(asin), 'r'))\n",
    "        return json.loads(data)\n",
    "    else:\n",
    "        return None\n",
    "\n",
    "serialize_processed_document('1059777851')"
   ]
  },
  {
   "cell_type": "markdown",
   "metadata": {},
   "source": [
    "For now, we are just working with the highest salience CONSUMER_GOODS. Later, we will make it more complex and consider all CONSUMER_GOODS returned from each product. We will also be erasing duplicates that come up.\n",
    "\n",
    "temporary code here that will remove capitilization and spaces. We will eventually need a classifier to return us the same string that will be used as the key to our map.\n",
    "\n",
    "        entities = {}\n",
    "        name = \"\"\n",
    "        # function to parse file \n",
    "         for entity in entities.entities:\n",
    "             # The entities are sorted by highest salience -> lowest salience\n",
    "             if (entity.type == language.types.Entity.CONSUMER_GOOD):\n",
    "                 # for now, just remove capitilization and spaces. but classifier is ideal\n",
    "                 name = ''.join(entity.name.split()).lower()\n",
    "                 break"
   ]
  },
  {
   "cell_type": "code",
   "execution_count": 20,
   "metadata": {},
   "outputs": [],
   "source": [
    "def getConsumerGood(file):\n",
    "    return \"\""
   ]
  },
  {
   "cell_type": "code",
   "execution_count": 23,
   "metadata": {},
   "outputs": [],
   "source": [
    "# I'm assuming that the map<asin, file>files exists and the function getConsumerGood\n",
    "# exists that takes in a file and returns the highest salience consumer good name \n",
    "all_categories = {}\n",
    "def map_categories(all_documents):\n",
    "    for document in all_documents:\n",
    "        name = getConsumerGood(files[document.asin])\n",
    "        for category in document['categories']:\n",
    "            if (category[0][0] in all_categories):\n",
    "                sub_category = all_categories[category[0][0]] # map<category, map<consumer_good, list<document> > >\n",
    "                if(category[0][1] in sub_category):\n",
    "                    if(name in sub_category[category[0][1]]):\n",
    "                        sub_category[category[0][1]][name].append(document[i]) \n",
    "                    else:\n",
    "                        sub_category[category[0][1]][name] = [document[i]]\n",
    "                else: \n",
    "                    sub_category[category[0][1]] = {name: [document[i]]}\n",
    "            else:\n",
    "                all_categories[category[0][0]] = {category[0][1]: {name: [document[i]]}}"
   ]
  },
  {
   "cell_type": "markdown",
   "metadata": {},
   "source": [
    "## Query-based Algorithm\n",
    "This will recommend three items from each sub-category that the product isn't classified as in the same overall category based on the query of the user. The query will come in a json file as well."
   ]
  },
  {
   "cell_type": "code",
   "execution_count": 24,
   "metadata": {},
   "outputs": [],
   "source": [
    "# map_categories(all_documents)\n",
    "def recommendItems(query):\n",
    "    recommend = []\n",
    "    name = getConsumerGood(query)\n",
    "    category = query['categories'][0][0]\n",
    "    sub_category = query['categories'][0][1]\n",
    "    for key in all_categories[category].keys():\n",
    "        if (key == sub_category):\n",
    "            continue\n",
    "        if (not all_categories[category][key][name]): #empty\n",
    "            continue\n",
    "        for i in range(1,3):\n",
    "            recommend.append(all_categories[category][key][name][i])\n",
    "    return recommend"
   ]
  },
  {
   "cell_type": "code",
   "execution_count": 25,
   "metadata": {},
   "outputs": [],
   "source": [
    "# recommendItems(file)"
   ]
  },
  {
   "cell_type": "code",
   "execution_count": null,
   "metadata": {},
   "outputs": [],
   "source": []
  }
 ],
 "metadata": {
  "kernelspec": {
   "display_name": "Python 3",
   "language": "python",
   "name": "python3"
  },
  "language_info": {
   "codemirror_mode": {
    "name": "ipython",
    "version": 3
   },
   "file_extension": ".py",
   "mimetype": "text/x-python",
   "name": "python",
   "nbconvert_exporter": "python",
   "pygments_lexer": "ipython3",
   "version": "3.4.0"
  }
 },
 "nbformat": 4,
 "nbformat_minor": 2
}
