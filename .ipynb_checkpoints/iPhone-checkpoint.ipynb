{
 "cells": [
  {
   "cell_type": "markdown",
   "metadata": {},
   "source": [
    "# iPhone Product Search\n",
    "\n",
    "Reading in the meta data for cell phones and doing a simple contains search for the search iphone in the name. The first step is to look for products that we know are 100% compatible with a specific model of the iPhone. Based on the data, we are looking into iPhone 7 or iPhone 6."
   ]
  },
  {
   "cell_type": "markdown",
   "metadata": {},
   "source": [
    "## Query Product Name\n",
    "The code below will read in the document gzip file, iterate through each document and check the title of the item to see if it contains the query string \"iphone\". If the item does, append the entire item to an array and return it. Overall, time complexity is O(n) where n is the number of documents in the gzip file."
   ]
  },
  {
   "cell_type": "code",
   "execution_count": 1,
   "metadata": {},
   "outputs": [],
   "source": [
    "import gzip\n",
    "\n",
    "META_CELLPHONE = 'Datasets/meta_Cell_Phones_and_Accessories.json.gz'\n",
    "\n",
    "def query_product_name(file_name, query):\n",
    "    g = gzip.open(file_name, 'r')\n",
    "    results = []\n",
    "    for line in g:\n",
    "        document = eval(line)\n",
    "        if ('title' in document):\n",
    "            document_title = document['title'].lower()\n",
    "            if (document_title.find(query.lower()) != -1):\n",
    "                results.append(document)\n",
    "    return results"
   ]
  },
  {
   "cell_type": "markdown",
   "metadata": {},
   "source": [
    "## Filter Results\n",
    "The code below will take the results from ```query_product_name``` and iterate through all the items inside and only return the items with a title that contains the query parameter. This function can be used recursively. Overall, time complexity is O(n) where n is the number of documents returned from ```query_product_name```."
   ]
  },
  {
   "cell_type": "code",
   "execution_count": 2,
   "metadata": {},
   "outputs": [],
   "source": [
    "def filter_results(results, query):\n",
    "    new_results = []\n",
    "    for result in results:\n",
    "        document_title = result['title'].lower()\n",
    "        if (document_title.find(query.lower()) != -1):\n",
    "            new_results.append(result)\n",
    "    return new_results\n",
    "\n",
    "def filter_multiple(results, queries):\n",
    "    new_results = []\n",
    "    for result in results:\n",
    "        document_title = result['title'].lower()\n",
    "        should_add = False\n",
    "        for query in queries:\n",
    "            if (document_title.find(query.lower()) != -1):\n",
    "                should_add = True\n",
    "        if (should_add):\n",
    "            new_results.append(result)\n",
    "    return new_results"
   ]
  },
  {
   "cell_type": "markdown",
   "metadata": {},
   "source": [
    "## Search for iPhone\n",
    "\n",
    "Utilizing the query function to search for all products that contain the word iPhone in their title. Then printing out the first 10 items just to show functionality."
   ]
  },
  {
   "cell_type": "code",
   "execution_count": 3,
   "metadata": {},
   "outputs": [],
   "source": [
    "iphone_results = query_product_name(META_CELLPHONE, 'iPhone')"
   ]
  },
  {
   "cell_type": "code",
   "execution_count": 4,
   "metadata": {},
   "outputs": [
    {
     "name": "stdout",
     "output_type": "stream",
     "text": [
      "Total: 82021\n",
      "1. Pink &amp; White 3d Melt Ice-cream Skin Hard Case Cover for Apple Iphone 4 4s Protect Cell\n",
      "2. Purple Hard Case Cover for Iphone 4 4s 4g with 3d Sculpture Design Blossom Rose Flower\n",
      "3. Hello Kitty Light-weighted Chrome Case Black Color for iphone 4 4G (HOT ITEM)\n",
      "4. Cool Summer Breeze in the Ocean Beach Collection: iPhone4/4s Case with Embossment- The Fish\n",
      "5. Cool Summer Breeze In The Ocean Beach Collection: iPhone4/4S Case with Embossment-The Star of the Ocean\n",
      "6. Cool Summer Breeze in the Ocean Beach Collection: iPhone4/4s Case with Embossment- Coral Sea\n",
      "7. Meme / Rage Face Iphone 4 / 4s Black Slim Case - Troll 4chan 9gag Over 60+ Memes\n",
      "8. Matte Retro Cell Phone Handset for iPhone 4 4S With Volume Remote Control\n",
      "9. Ec00166c 3d Car Transformers Hard Case Cover for Apple Iphone4 4g/4s + Free Screen Protector\n",
      "10. Ec00151b Hello Kitty Iphone 4s Case Hard Case Cover for Apple Iphone4 4g/4s + Free Screen Protector\n"
     ]
    }
   ],
   "source": [
    "print('Total: {}'.format(len(iphone_results)))\n",
    "for i in range(0,10):\n",
    "    print('{}. {}'.format(i+1,iphone_results[i]['title']))"
   ]
  },
  {
   "cell_type": "markdown",
   "metadata": {},
   "source": [
    "## Filtering for iPhone 7\n",
    "\n",
    "Utilizing the filter function to limit the results down from iPhone to iPhone and 7. Based on the results, it is apparent that iPhone 7 is not in the data set and the data comes from before the existance of the iPhone 7. To test this even further, we should also return the results from iPhone that contain 7. For example: \"iPhone 6, 7\" -> this should be filtered as one of the results."
   ]
  },
  {
   "cell_type": "code",
   "execution_count": 19,
   "metadata": {},
   "outputs": [],
   "source": [
    "iphone_7_results = filter_multiple(iphone_results, ['iPhone 7', 'iPhone7'])\n",
    "#do this later"
   ]
  },
  {
   "cell_type": "code",
   "execution_count": 20,
   "metadata": {},
   "outputs": [
    {
     "name": "stdout",
     "output_type": "stream",
     "text": [
      "Total: 1\n",
      "1. YAGadget iPhone 7 Piece Complete Tool Kit + 5 Star Torx Screwdriver\n"
     ]
    }
   ],
   "source": [
    "print('Total: {}'.format(len(iphone_7_results)))\n",
    "for i in range(0,len(iphone_7_results)):\n",
    "    print('{}. {}'.format(i+1,iphone_7_results[i]['title']))"
   ]
  },
  {
   "cell_type": "markdown",
   "metadata": {},
   "source": [
    "## Filtering for iPhone 6/6S\n",
    "Utilizing the filter function to limit the results down from iPhone to iPhone, iPhone 6, and iPhone 6S. We should also return the results from iPhone that contain 6S and 6. For example: \"iPhone 5, 6, 6S\" -> this should be filtered as one of the results."
   ]
  },
  {
   "cell_type": "code",
   "execution_count": 21,
   "metadata": {},
   "outputs": [],
   "source": [
    "iphone_6_6S_results = filter_multiple(iphone_results, ['iPhone 6', 'iPhone 6S', 'iPhone6', 'iPhone6S'])\n",
    "#do this later"
   ]
  },
  {
   "cell_type": "code",
   "execution_count": 22,
   "metadata": {},
   "outputs": [
    {
     "name": "stdout",
     "output_type": "stream",
     "text": [
      "Total: 79\n",
      "1. iKross Wireless Mini Bluetooth Handsfree Headset for Apple iPhone 6, 5S 5C 5, 4S 4, iPad Air, Mini, 4, 3, 2, 1 and more\n",
      "2. iKross Wireless Bluetooth Handsfree Headset for Apple iPhone 6, 5S 5C 5; Amazon Fire Phone\n",
      "3. Arkon Windshield Dashboard Air Vent Car Mount Holder for Amazon Fire Samsung Galaxy S5 S4 S3 Galaxy Note 3 Apple iPhone 6 5S\n",
      "4. iKross Wireless Bluetooth Handsfree Headset + Black Premium Bluetooth Headset Pouch Carrying Case for Apple iPhone 6, 5S 5C 5, 4 4S and more\n",
      "5. iKross Wireless Bluetooth Handsfree Headset for Apple &reg; iPhone 5s 5c 5, iPhone 6, iPad &reg; Air &reg; Mini &reg; Tablet and Other Cell Phone\n",
      "6. iKross Wireless Bluetooth Handsfree Headset + Red Carrying Bluetooth Pouch Case For Apple iPhone 6 5S 5C 5 and more\n",
      "7. iKross Stainless Steel Capacitive Stylus with 3.5mm Adapter Plug (Black) for iPad Air, Mini, iPhone 6 5S 5C 5 4S 4, Samsung Galaxy &amp; Other tablets - Retail Packaging\n",
      "8. iKross Stainless Steel Capacitive Stylus with 3.5mm Adapter Plug (Black) for iPad Air, Mini, iPhone 6 5S 5C 5 4S 4, Samsung Galaxy &amp; Other tablets - Retail Packaging\n",
      "9. iKross Stainless Steel Capacitive Stylus with 3.5mm Adapter Plug (Purple) for iPad Air, Mini, iPhone 6 5S 5C 5, iPod Touch; Acer Aspire Switch 10, ICONIA ONE 7/ TAB 7 &amp; Other tablets - Retail Packaging\n",
      "10. iKross Stainless Steel Capacitive Stylus with 3.5mm Adapter Plug (Black) for iPad Air, Mini, iPhone 6 5S 5C 5 4S 4, Samsung Galaxy &amp; Other tablets - Retail Packaging\n"
     ]
    }
   ],
   "source": [
    "print('Total: {}'.format(len(iphone_6_6S_results)))\n",
    "for i in range(0,10):\n",
    "    print('{}. {}'.format(i+1,iphone_6_6S_results[i]['title']))"
   ]
  },
  {
   "cell_type": "markdown",
   "metadata": {},
   "source": [
    "## Filtering for iPhone 5/5S\n",
    "Utilizing the filter function to limit the results down from iPhone to iPhone, iPhone 5, and iPhone 5S. We should also return the results from iPhone that contain 5S and 5. For example: \"iPhone 6, 5S\" -> this should be filtered as one of the results."
   ]
  },
  {
   "cell_type": "code",
   "execution_count": 23,
   "metadata": {},
   "outputs": [],
   "source": [
    "iphone_5_5S_results = filter_multiple(iphone_results, ['iPhone 5', 'iPhone 5S', 'iPhone5', 'iPhone5S'])\n",
    "# do this later"
   ]
  },
  {
   "cell_type": "code",
   "execution_count": 24,
   "metadata": {},
   "outputs": [
    {
     "name": "stdout",
     "output_type": "stream",
     "text": [
      "Total: 32357\n",
      "1. Football Club Hard Case for iPhone 5 + Free Screen Protector\n",
      "2. 12X Magnifier Zoom Aluminum Tripod Camera Telephoto Lens for Apple iPhone 5\n",
      "3. Newest Korea Fashion Happymori smart leather case wallet mobile cover for iphone 5 5G\n",
      "4. NEWEST Sliver Color Arachnophobia Durable Aluminium Metal Cover Case for iphone 5 5G\n",
      "5. NEWEST Black Color Arachnophobia Durable Aluminium Metal Cover Case for iphone 5 5G\n",
      "6. Jonathan Adler iPhone 5 Cover - Mod Floral\n",
      "7. Leegoal 60X Zoom LED Cell Phone Mobile Phone Microscope Micro Lens for Apple iPhone 5 5G\n",
      "8. New Black Carbon Fiber Pattern Hard Pc Rubberized Case Back Cover for Iphone 5\n",
      "9. OnlineBestDigital - Bee Style 3D Soft Silicone Case for Apple iPhone 5S / Apple iPhone 5 - Light Blue with 3 Screen Protectors\n",
      "10. OnlineBestDigital - Gameboy Style Silicone Case for Apple iPhone 5S / Apple iPhone 5 - Black with 3 Screen Protectors\n"
     ]
    }
   ],
   "source": [
    "print('Total: {}'.format(len(iphone_5_5S_results)))\n",
    "for i in range(0,10):\n",
    "    print('{}. {}'.format(i+1,iphone_5_5S_results[i]['title']))"
   ]
  },
  {
   "cell_type": "markdown",
   "metadata": {},
   "source": [
    "## Filtering for iPhone 4/4S\n",
    "\n",
    "Utilizing the filter function to limit the results down from iPhone to iPhone 4 and iPhone 4S. We should also return the results from iPhone that contain 4S and 4. For example: \"iPhone 6, 5, 4\" -> this should be filtered as one of the results."
   ]
  },
  {
   "cell_type": "code",
   "execution_count": 27,
   "metadata": {},
   "outputs": [],
   "source": [
    "iphone_4_4S_results = filter_multiple(iphone_results, ['iPhone 4', 'iPhone 4S', 'iPhone4', 'iPhone4S'])\n",
    "#do this later"
   ]
  },
  {
   "cell_type": "code",
   "execution_count": 29,
   "metadata": {},
   "outputs": [
    {
     "name": "stdout",
     "output_type": "stream",
     "text": [
      "Total: 37507\n",
      "1. Pink &amp; White 3d Melt Ice-cream Skin Hard Case Cover for Apple Iphone 4 4s Protect Cell\n",
      "2. Purple Hard Case Cover for Iphone 4 4s 4g with 3d Sculpture Design Blossom Rose Flower\n",
      "3. Hello Kitty Light-weighted Chrome Case Black Color for iphone 4 4G (HOT ITEM)\n",
      "4. Cool Summer Breeze in the Ocean Beach Collection: iPhone4/4s Case with Embossment- The Fish\n",
      "5. Cool Summer Breeze In The Ocean Beach Collection: iPhone4/4S Case with Embossment-The Star of the Ocean\n",
      "6. Cool Summer Breeze in the Ocean Beach Collection: iPhone4/4s Case with Embossment- Coral Sea\n",
      "7. Meme / Rage Face Iphone 4 / 4s Black Slim Case - Troll 4chan 9gag Over 60+ Memes\n",
      "8. Matte Retro Cell Phone Handset for iPhone 4 4S With Volume Remote Control\n",
      "9. Ec00166c 3d Car Transformers Hard Case Cover for Apple Iphone4 4g/4s + Free Screen Protector\n",
      "10. Ec00151b Hello Kitty Iphone 4s Case Hard Case Cover for Apple Iphone4 4g/4s + Free Screen Protector\n"
     ]
    }
   ],
   "source": [
    "print('Total: {}'.format(len(iphone_4_4S_results)))\n",
    "for i in range(0,10):\n",
    "    print('{}. {}'.format(i+1,iphone_4_4S_results[i]['title']))"
   ]
  }
 ],
 "metadata": {
  "kernelspec": {
   "display_name": "Python 3",
   "language": "python",
   "name": "python3"
  },
  "language_info": {
   "codemirror_mode": {
    "name": "ipython",
    "version": 3
   },
   "file_extension": ".py",
   "mimetype": "text/x-python",
   "name": "python",
   "nbconvert_exporter": "python",
   "pygments_lexer": "ipython3",
   "version": "3.4.0"
  }
 },
 "nbformat": 4,
 "nbformat_minor": 2
}
