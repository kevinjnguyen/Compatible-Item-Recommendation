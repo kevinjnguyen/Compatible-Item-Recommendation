{
 "cells": [
  {
   "cell_type": "markdown",
   "metadata": {},
   "source": [
    "# Tensorflow\n",
    "## Getting started\n",
    "\n",
    "Tensorflow is easiest install globally. In order to fix the issues with Python 3.6 and Mac OSX, I ran the following command to install Tensorflow.\n",
    "```\n",
    "python3 -m pip install --upgrade https://storage.googleapis.com/tensorflow/mac/cpu/tensorflow-0.12.0-py3-none-any.whl\n",
    "```\n",
    "\n",
    "The notes in this notebook follow the getting started from Google [https://www.tensorflow.org/get_started/get_started](https://www.tensorflow.org/get_started/get_started)"
   ]
  },
  {
   "cell_type": "markdown",
   "metadata": {},
   "source": [
    "## Running Tensorflow\n",
    "The following command should work if Tensorflow is installed properly."
   ]
  },
  {
   "cell_type": "code",
   "execution_count": 7,
   "metadata": {},
   "outputs": [],
   "source": [
    "import tensorflow as tf"
   ]
  },
  {
   "cell_type": "markdown",
   "metadata": {},
   "source": [
    "The core functionality of TensorFlow originates from TensorFlow Core and is recommended for researchers and other users who desire more levels of control. This is the main API that is offered by TensorFlow and all other APIs utilizing TensorFlow are based ontop of TensorFlow Core. E.g. TensorFlow Estimator helps you manage data sets, estimators, training and inference but is based on TensorFlow Core."
   ]
  },
  {
   "cell_type": "code",
   "execution_count": 8,
   "metadata": {},
   "outputs": [
    {
     "name": "stdout",
     "output_type": "stream",
     "text": [
      "Tensor(\"Const:0\", shape=(), dtype=float32) Tensor(\"Const_1:0\", shape=(), dtype=float32)\n"
     ]
    }
   ],
   "source": [
    "node1 = tf.constant(3.0, dtype=tf.float32)\n",
    "node2 = tf.constant(4.0) # Datatype tf.float32 is implicitly defined\n",
    "print(node1, node2)"
   ]
  },
  {
   "cell_type": "markdown",
   "metadata": {},
   "source": [
    "*Note:* Although we defined two computational nodes as constants, when we print them it does not actually produce 3.0 or 4.0. They only are evaluated in a session or ran through a computational graph.\n",
    "\n",
    "From the folllowing code below, its clear that the values of each node is only given at the run of the node through a TensorFlow session. An interesting note is that TensorFlow runs on top of Numpy for the mathematical functions and that is why we cannot just simply implement our own matrix multiplication but we should use all of TensorFlow's API calls since it wraps around Numpy."
   ]
  },
  {
   "cell_type": "code",
   "execution_count": 14,
   "metadata": {},
   "outputs": [
    {
     "name": "stdout",
     "output_type": "stream",
     "text": [
      "[3.0, 4.0]\n"
     ]
    }
   ],
   "source": [
    "sess = tf.Session()\n",
    "print(sess.run([node1, node2]))"
   ]
  },
  {
   "cell_type": "code",
   "execution_count": 16,
   "metadata": {},
   "outputs": [
    {
     "name": "stdout",
     "output_type": "stream",
     "text": [
      "node3: Tensor(\"Add:0\", shape=(), dtype=float32)\n",
      "sess.run(node3) 7.0\n"
     ]
    }
   ],
   "source": [
    "from __future__ import print_function\n",
    "\n",
    "node3 = tf.add(node1, node2)\n",
    "print('node3:', node3)\n",
    "print('sess.run(node3)', sess.run(node3))"
   ]
  },
  {
   "cell_type": "code",
   "execution_count": null,
   "metadata": {},
   "outputs": [],
   "source": []
  }
 ],
 "metadata": {
  "kernelspec": {
   "display_name": "Python 3",
   "language": "python",
   "name": "python3"
  },
  "language_info": {
   "codemirror_mode": {
    "name": "ipython",
    "version": 3
   },
   "file_extension": ".py",
   "mimetype": "text/x-python",
   "name": "python",
   "nbconvert_exporter": "python",
   "pygments_lexer": "ipython3",
   "version": "3.6.3"
  }
 },
 "nbformat": 4,
 "nbformat_minor": 2
}
