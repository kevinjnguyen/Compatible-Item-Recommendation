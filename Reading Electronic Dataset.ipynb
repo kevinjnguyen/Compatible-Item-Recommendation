{
 "cells": [
  {
   "cell_type": "markdown",
   "metadata": {},
   "source": [
    "# Reading in Electronics Meta Data"
   ]
  },
  {
   "cell_type": "markdown",
   "metadata": {},
   "source": [
    "## Reading JSON from meta_Electronics.json.gz\n",
    "\n",
    "JSON Document Structure\n",
    "\n",
    "```\n",
    "{\n",
    "  'asin': string (product id),\n",
    "  'imUrl': string (url to hosted image on Amazon),\n",
    "  'description': string (product description),\n",
    "  'categories': [[strings]] (list of lists of strings for categories,\n",
    "  'title': string (product name)\n",
    "}\n",
    "```"
   ]
  },
  {
   "cell_type": "code",
   "execution_count": 3,
   "metadata": {},
   "outputs": [
    {
     "name": "stdout",
     "output_type": "stream",
     "text": [
      "{'asin': '0132793040', 'imUrl': 'http://ecx.images-amazon.com/images/I/31JIPhp%2BGIL.jpg', 'description': 'The Kelby Training DVD Mastering Blend Modes in Adobe Photoshop CS5 with Corey Barker is a useful tool for becoming familiar with the use of blend modes in Adobe Photoshop. For those who are serious about mastering all that Photoshop has to offer, mastering blend modes is just as important as mastering layers.In this DVD tutorial, seasoned expert Corey Barker explores the function of blend modes in a variety of scenarios such as image restoration, sharpening, adjustments, special effects and much more. Since every project scenario is different, Corey encourages you to experiment with these blend modes by giving you the skills and confidence you need.', 'categories': [['Electronics', 'Computers & Accessories', 'Cables & Accessories', 'Monitor Accessories']], 'title': 'Kelby Training DVD: Mastering Blend Modes in Adobe Photoshop CS5 By Corey Barker'}\n"
     ]
    }
   ],
   "source": [
    "import gzip\n",
    "\n",
    "META_ELECTRONICS_PATH = 'Datasets/meta_Electronics.json.gz'\n",
    "\n",
    "def read_gzip_file(file_name):\n",
    "    g = gzip.open(file_name, 'r')\n",
    "\n",
    "    for line in g:\n",
    "        document = eval(line)\n",
    "        print (document)\n",
    "        break # Break is included here to prevent overprinting of information.\n",
    "\n",
    "read_gzip_file(META_ELECTRONICS_PATH)"
   ]
  },
  {
   "cell_type": "markdown",
   "metadata": {},
   "source": [
    "## Read Categories\n",
    "Read categories from the electronics meta data. The code below reads the first ten elements in the electronics meta data and prints out their categories."
   ]
  },
  {
   "cell_type": "code",
   "execution_count": 7,
   "metadata": {},
   "outputs": [
    {
     "name": "stdout",
     "output_type": "stream",
     "text": [
      "[['Electronics', 'Computers & Accessories', 'Cables & Accessories', 'Monitor Accessories']]\n",
      "[['Electronics', 'Computers & Accessories', 'Cables & Accessories', 'Monitor Accessories']]\n",
      "[['Electronics', 'Computers & Accessories', 'PDAs, Handhelds & Accessories', 'PDAs & Handhelds']]\n",
      "[['Electronics', 'Accessories & Supplies', 'Audio & Video Accessories', 'Remote Controls', 'TV Remote Controls']]\n",
      "[['Electronics', 'GPS & Navigation', 'Vehicle GPS', 'Trucking GPS']]\n",
      "[['Electronics', 'Accessories & Supplies', 'Audio & Video Accessories', 'Headphones']]\n",
      "[['Electronics', 'eBook Readers & Accessories', 'Power Adapters']]\n",
      "[['Electronics', 'eBook Readers & Accessories', 'Skins']]\n",
      "[['Electronics', 'eBook Readers & Accessories', 'Covers']]\n",
      "[['Electronics', 'eBook Readers & Accessories', 'Covers']]\n"
     ]
    }
   ],
   "source": [
    "def read_categories():\n",
    "    g = gzip.open(META_ELECTRONICS_PATH, 'r')\n",
    "    \n",
    "    i = 0\n",
    "    for line in g:\n",
    "        document = eval(line)\n",
    "        print (document['categories'])\n",
    "        i= i + 1\n",
    "        if (i == 10):\n",
    "            break\n",
    "\n",
    "read_categories()"
   ]
  },
  {
   "cell_type": "markdown",
   "metadata": {},
   "source": [
    "## Generate Electronic Subcategory Dictionary\n",
    "Read all the categories and essentially create a dictionary of dictionaries that contains the structure of all the categories. \n"
   ]
  },
  {
   "cell_type": "code",
   "execution_count": 17,
   "metadata": {},
   "outputs": [],
   "source": [
    "def create_sub_category_dictionary():\n",
    "    g = gzip.open(META_ELECTRONICS_PATH, 'r')\n",
    "    \n",
    "    # Initialize Sub Category Dictionary \n",
    "    sub_category_dictionary = {}\n",
    "\n",
    "    for line in g:\n",
    "\n",
    "        document = eval(line)\n",
    "        \n",
    "        # Grab the category information from the document\n",
    "        categories = document['categories'] \n",
    "        \n",
    "        # Each category is a list of list of strings. Iterate through them.\n",
    "        for list in categories:\n",
    "            \n",
    "            # Keep a reference to the parent sub-directory to append to.\n",
    "            current_category_element = sub_category_dictionary\n",
    "            \n",
    "            # Iterate through the list and check to see if each category has been found.\n",
    "            for category in list:\n",
    "                \n",
    "                # Have not seen the category before, so add it as a child\n",
    "                if category not in current_category_element:\n",
    "                    current_category_element[category] = {}\n",
    "                    \n",
    "                # Category list is a hierachy, move to the just created category\n",
    "                current_category_element = current_category_element[category]\n",
    "\n",
    "    return sub_category_dictionary"
   ]
  },
  {
   "cell_type": "code",
   "execution_count": null,
   "metadata": {},
   "outputs": [],
   "source": []
  }
 ],
 "metadata": {
  "kernelspec": {
   "display_name": "Python 3",
   "language": "python",
   "name": "python3"
  },
  "language_info": {
   "codemirror_mode": {
    "name": "ipython",
    "version": 3
   },
   "file_extension": ".py",
   "mimetype": "text/x-python",
   "name": "python",
   "nbconvert_exporter": "python",
   "pygments_lexer": "ipython3",
   "version": "3.6.3"
  }
 },
 "nbformat": 4,
 "nbformat_minor": 2
}
